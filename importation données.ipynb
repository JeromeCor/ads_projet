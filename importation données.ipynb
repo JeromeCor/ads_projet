{
 "cells": [
  {
   "cell_type": "code",
   "execution_count": 1,
   "metadata": {},
   "outputs": [],
   "source": [
    "import numpy as np\n",
    "import matplotlib.pyplot as plt\n",
    "import pandas as pd\n",
    "from sklearn.neighbors import KNeighborsClassifier\n",
    "import random"
   ]
  },
  {
   "cell_type": "code",
   "execution_count": 23,
   "metadata": {},
   "outputs": [],
   "source": [
    "dataset_test = pd.read_csv('input_test.csv', sep=\",\")\n",
    "dataset_train = pd.read_csv('input_train.csv', sep=\",\")"
   ]
  },
  {
   "cell_type": "code",
   "execution_count": 25,
   "metadata": {},
   "outputs": [
    {
     "name": "stdout",
     "output_type": "stream",
     "text": [
      "                  ID  CARD_PAYMENT  COUPON_PAYMENT   RSP_PAYMENT  \\\n",
      "count   99995.000000  99995.000000    99995.000000  99995.000000   \n",
      "mean   149997.000000      0.898315        0.058083      0.169608   \n",
      "std     28866.214421      0.302235        0.233901      0.375290   \n",
      "min    100000.000000      0.000000        0.000000      0.000000   \n",
      "25%    124998.500000      1.000000        0.000000      0.000000   \n",
      "50%    149997.000000      1.000000        0.000000      0.000000   \n",
      "75%    174995.500000      1.000000        0.000000      0.000000   \n",
      "max    199994.000000      1.000000        1.000000      1.000000   \n",
      "\n",
      "       WALLET_PAYMENT  REGISTRATION_DATE  BUYER_BIRTHDAY_DATE  \\\n",
      "count    99995.000000       99995.000000         94210.000000   \n",
      "mean         0.129846        2012.572759          1976.146640   \n",
      "std          0.336136           4.221507            14.057923   \n",
      "min          0.000000        2001.000000          1900.000000   \n",
      "25%          0.000000        2010.000000          1967.000000   \n",
      "50%          0.000000        2014.000000          1977.000000   \n",
      "75%          0.000000        2016.000000          1987.000000   \n",
      "max          1.000000        2017.000000          2016.000000   \n",
      "\n",
      "       BUYER_DEPARTMENT  SELLER_SCORE_AVERAGE  SELLER_DEPARTMENT  \n",
      "count      99995.000000          99982.000000       99995.000000  \n",
      "mean          54.139107             45.851533          32.526096  \n",
      "std           27.863596              2.443775          34.949563  \n",
      "min           -1.000000             10.000000          -1.000000  \n",
      "25%           31.000000             45.000000          -1.000000  \n",
      "50%           59.000000             46.000000          22.000000  \n",
      "75%           77.000000             47.000000          70.000000  \n",
      "max          100.000000             50.000000          98.000000  \n"
     ]
    }
   ],
   "source": [
    "print (dataset_test.describe())"
   ]
  },
  {
   "cell_type": "code",
   "execution_count": null,
   "metadata": {},
   "outputs": [],
   "source": []
  }
 ],
 "metadata": {
  "kernelspec": {
   "display_name": "Python 3",
   "language": "python",
   "name": "python3"
  },
  "language_info": {
   "codemirror_mode": {
    "name": "ipython",
    "version": 3
   },
   "file_extension": ".py",
   "mimetype": "text/x-python",
   "name": "python",
   "nbconvert_exporter": "python",
   "pygments_lexer": "ipython3",
   "version": "3.5.4"
  }
 },
 "nbformat": 4,
 "nbformat_minor": 2
}
