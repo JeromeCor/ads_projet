{
 "cells": [
  {
   "cell_type": "code",
   "execution_count": 5,
   "metadata": {},
   "outputs": [
    {
     "name": "stderr",
     "output_type": "stream",
     "text": [
      "C:\\Miniconda3\\envs\\ADS\\lib\\site-packages\\sklearn\\cross_validation.py:41: DeprecationWarning: This module was deprecated in version 0.18 in favor of the model_selection module into which all the refactored classes and functions are moved. Also note that the interface of the new CV iterators are different from that of this module. This module will be removed in 0.20.\n",
      "  \"This module will be removed in 0.20.\", DeprecationWarning)\n"
     ]
    }
   ],
   "source": [
    "import numpy as np\n",
    "import matplotlib.pyplot as plt\n",
    "import pandas as pd\n",
    "import random\n",
    "\n",
    "from sklearn import datasets\n",
    "from sklearn.cross_validation import train_test_split\n",
    "from sklearn.neighbors import KNeighborsClassifier\n",
    "from sklearn.svm import SVC"
   ]
  },
  {
   "cell_type": "code",
   "execution_count": 3,
   "metadata": {},
   "outputs": [],
   "source": [
    "dataset_test = pd.read_csv('input_test.csv', sep=\",\")\n",
    "dataset_train = pd.read_csv('input_train.csv', sep=\",\")"
   ]
  },
  {
   "cell_type": "code",
   "execution_count": 4,
   "metadata": {},
   "outputs": [
    {
     "name": "stdout",
     "output_type": "stream",
     "text": [
      "                  ID  CARD_PAYMENT  COUPON_PAYMENT   RSP_PAYMENT  \\\n",
      "count   99995.000000  99995.000000    99995.000000  99995.000000   \n",
      "mean   149997.000000      0.898315        0.058083      0.169608   \n",
      "std     28866.214421      0.302235        0.233901      0.375290   \n",
      "min    100000.000000      0.000000        0.000000      0.000000   \n",
      "25%    124998.500000      1.000000        0.000000      0.000000   \n",
      "50%    149997.000000      1.000000        0.000000      0.000000   \n",
      "75%    174995.500000      1.000000        0.000000      0.000000   \n",
      "max    199994.000000      1.000000        1.000000      1.000000   \n",
      "\n",
      "       WALLET_PAYMENT  REGISTRATION_DATE  BUYER_BIRTHDAY_DATE  \\\n",
      "count    99995.000000       99995.000000         94210.000000   \n",
      "mean         0.129846        2012.572759          1976.146640   \n",
      "std          0.336136           4.221507            14.057923   \n",
      "min          0.000000        2001.000000          1900.000000   \n",
      "25%          0.000000        2010.000000          1967.000000   \n",
      "50%          0.000000        2014.000000          1977.000000   \n",
      "75%          0.000000        2016.000000          1987.000000   \n",
      "max          1.000000        2017.000000          2016.000000   \n",
      "\n",
      "       BUYER_DEPARTMENT  SELLER_SCORE_AVERAGE  SELLER_DEPARTMENT  \n",
      "count      99995.000000          99982.000000       99995.000000  \n",
      "mean          54.139107             45.851533          32.526096  \n",
      "std           27.863596              2.443775          34.949563  \n",
      "min           -1.000000             10.000000          -1.000000  \n",
      "25%           31.000000             45.000000          -1.000000  \n",
      "50%           59.000000             46.000000          22.000000  \n",
      "75%           77.000000             47.000000          70.000000  \n",
      "max          100.000000             50.000000          98.000000  \n"
     ]
    }
   ],
   "source": [
    "print (dataset_test.describe())\n"
   ]
  },
  {
   "cell_type": "code",
   "execution_count": 7,
   "metadata": {},
   "outputs": [],
   "source": [
    "\n",
    "def SVM(size,X_train,X_test,y_train,y_test):\n",
    "    X_train,X_test_notused,y_train,y_test_notused=train_test_split(X_train,y_train,test_size=i/1000,random_state=11)\n",
    "    \n",
    "    clf = SVC(probability=True, C=100.0, gamma=0.1, kernel='linear')\n",
    "    clf.fit(X_train, y_train)\n",
    "\n",
    "    s2=1-clf.score(X_train, y_train)\n",
    "    s= 1-clf.score(X_test,y_test)\n",
    "    return s,s2"
   ]
  },
  {
   "cell_type": "code",
   "execution_count": null,
   "metadata": {},
   "outputs": [],
   "source": [
    "v_tailles=np.arange(20,1000,10)\n",
    "sortieTestSVM=np.arange(float(len(v_tailles)))\n",
    "sortieTrainSVM=np.arange(float(len(v_tailles)))\n",
    "\n",
    "#dataset\n",
    "\n",
    "digits = datasets.load_digits()\n",
    "X=digits.data[0:1000]\n",
    "y=digits.target[0:1000]\n",
    "X_train,X_test,y_train,y_test=train_test_split(X,y,test_size=0.33,random_state=11)\n",
    "        \n",
    "for i in range(len(v_tailles)):\n",
    "    #select V_tailles(i) random trainset from x_train\n",
    "\n",
    "    \n",
    "    [s,s2]=SVM(v_tailles[i],X_train,X_test,y_train,y_test)\n",
    "    sortieTestSVM[i]=s\n",
    "    sortieTrainSVM[i]=s2"
   ]
  }
 ],
 "metadata": {
  "kernelspec": {
   "display_name": "Python 3",
   "language": "python",
   "name": "python3"
  },
  "language_info": {
   "codemirror_mode": {
    "name": "ipython",
    "version": 3
   },
   "file_extension": ".py",
   "mimetype": "text/x-python",
   "name": "python",
   "nbconvert_exporter": "python",
   "pygments_lexer": "ipython3",
   "version": "3.5.4"
  }
 },
 "nbformat": 4,
 "nbformat_minor": 2
}
